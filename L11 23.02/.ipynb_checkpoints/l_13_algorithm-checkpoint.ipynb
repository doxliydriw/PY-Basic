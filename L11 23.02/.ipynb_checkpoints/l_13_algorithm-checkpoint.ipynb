{
 "cells": [
  {
   "cell_type": "markdown",
   "metadata": {
    "collapsed": true
   },
   "source": [
    "# Алгоритмы"
   ]
  },
  {
   "cell_type": "markdown",
   "metadata": {},
   "source": [
    "**Алгоpитм** - заранее заданное понятное и точное пpедписание возможному исполнителю совеpшить определенную\n",
    "последовательность действий для получения решения задачи за конечное число шагов.\n",
    "\n",
    "Это — не математическое, а логическое определение алгоритма, дающее его содержательно-логическую суть.\n",
    "Понятие алгоритма, трансформированное для вычислительно- прикладных и теоретико-математических нужд является не только одним из главных понятий математики, но, главное, одним из главных понятий современной науки. Более того, с наступлением информационной эры алгоритмы становятся одним из важнейших факторов развития технологий.\n",
    "\n",
    "Если говорить нормальным языком, **алгоритм – это пошаговая инструкция**, где результат прошлого шага строго определен и используется в качестве входных данных для следующего шага."
   ]
  },
  {
   "cell_type": "markdown",
   "metadata": {},
   "source": [
    "Основные свойства алгоритмов следующие:\n",
    "\n",
    "1. Реализуемость — исполнитель алгоритма должен \"понимать\", как его выполнять. Иными словами, имея алгоритм и произвольный вариант исходных данных, исполнитель должен знать, как надо действовать для выполнения этого алгоритма.\n",
    "\n",
    "2. Дискpетность (прерывность, раздельность) — алгоpитм должен пpедставлять пpоцесс pешения задачи как оследовательное выполнение пpостых (или pанее опpеделенных) шагов (этапов).\n",
    "\n",
    "3. Опpеделенность — каждое пpавило алгоpитма должно быть четким, однозначным и не оставлять места для пpоизвола. Благодаpя этому свойству выполнение алгоpитма носит механический хаpактеp и не тpебует никаких дополнительных указаний или сведений о pешаемой задаче.\n",
    "\n",
    "4. Pезультативность (или конечность) состоит в том, что за конечное число шагов алгоpитм либо должен пpиводить к pешению задачи, либо после конечного числа шагов останавливаться из-за невозможности получить решение с выдачей соответствующего сообщения, либо неограниченно продолжаться в течение времени, отведенного для исполнения алгоритма, с выдачей промежуточных результатов.\n",
    "\n",
    "5. Массовость означает, что алгоpитм pешения задачи pазpабатывается в общем виде, т.е. он должен быть пpименим для некотоpого класса задач, pазличающихся лишь исходными данными. Пpи этом исходные данные могут выбиpаться из некотоpой области, котоpая называется областью пpименимости алгоpитма."
   ]
  },
  {
   "cell_type": "markdown",
   "metadata": {},
   "source": [
    "Алгоритмы можно представлять как некоторые структуры, состоящие из отдельных базовых (т.е. основных) элементов.\n",
    "Логическая структура любого алгоритма может быть представлена комбинацией трех базовых структур:\n",
    "\n",
    "- следование\n",
    "- ветвление\n",
    "- цикл.\n",
    "\n",
    "Характерной особенностью базовых структур является наличие в них одного входа и одного выхода."
   ]
  },
  {
   "cell_type": "markdown",
   "metadata": {},
   "source": [
    "### Оценка сложности алгоритмов"
   ]
  },
  {
   "cell_type": "markdown",
   "metadata": {},
   "source": [
    "Сложность алгоритмов обычно оценивают по времени выполнения или по используемой памяти. В обоих случаях сложность зависит от размеров входных данных - ***массив из 100 элементов будет обработан быстрее, чем аналогичный из 1000.***\n",
    "\n",
    "При этом точное время мало кого интересует: оно зависит от процессора, типа данных, языка программирования и множества других параметров. Важна лишь **асимптотическая сложность**, т. е. сложность при стремлении размера входных данных к бесконечности.\n",
    "\n",
    "Допустим, некоторому алгоритму нужно выполнить **4n 3 + 7n** условных операций, чтобы обработать n элементов входных данных. При увеличении **n**, на итоговое время работы будет **значительно больше влиять возведение n в куб**, чем умножение его на 4 или же прибавление 7n. Тогда говорят, что временная сложность этого алгоритма равна **О(n3 )**, т.е. зависит от размера входных данных кубически.\n",
    "\n",
    "Использование заглавной буквы **О** (или так называемая **О-нотация**) пришло из математики, где её применяют для сравнения асимптотического поведения функций.\n",
    "\n",
    "Формально **O(f(n))** означает, что время работы алгоритма (или объём занимаемой памяти) растёт в зависимости от объёма входных данных не быстрее, чем некоторая константа, умноженная на f(n)."
   ]
  },
  {
   "cell_type": "markdown",
   "metadata": {},
   "source": [
    "**O(n)** — линейная сложность Такой сложностью обладает, например, алгоритм поиска наибольшего элемента в не\n",
    "отсортированном массиве. Нам придётся пройтись по всем n элементам массива, чтобы понять, какой из них максимальный.\n",
    "\n",
    "**O(log n)** — логарифмическая сложность Простейший пример — бинарный поиск. Если массив отсортирован, мы можем\n",
    "проверить, есть ли в нём какое-то конкретное значение, методом деления пополам. Проверим средний элемент, если он больше искомого, то отбросим вторую половину массива — там его точно нет. Если же меньше, то наоборот — отбросим начальную половину. И так будем продолжать делить пополам, в итоге проверим log n элементов.\n",
    "\n",
    "**O(n2)** — квадратичная сложность. Такую сложность имеет, например, алгоритм сортировки вставками. В канонической\n",
    "реализации он представляет из себя два вложенных цикла: один, чтобы проходить по\n",
    "всему массиву, а второй, чтобы находить место очередному элементу в уже отсортированной части. Таким образом, количество операций будет зависеть от размера массива как n * n, т. е. n2.\n",
    "\n",
    "Также случается, что время работы алгоритма вообще не зависит от размера входных данных. Тогда сложность обозначают как **O(1)**"
   ]
  },
  {
   "cell_type": "markdown",
   "metadata": {},
   "source": [
    "Графики:\n",
    "https://media.springernature.com/original/springer-static/image/chp%3A10.1007%2F978-1-4842-3988-9_1/MediaObjects/465726_1_En_1_Fig1_HTML.jpg\n",
    "\n",
    "Сложность в цифрах\n",
    "https://thatcomputerscientist.com/big-o-notation-explained-as-easily-as-possible\n",
    "\n",
    "Таблица\n",
    "https://tproger.ru/articles/computational-complexity-explained/\n"
   ]
  },
  {
   "cell_type": "markdown",
   "metadata": {},
   "source": [
    "### Алгоритм сортировки пузырьком"
   ]
  },
  {
   "cell_type": "markdown",
   "metadata": {},
   "source": [
    "Сортировка пузырьком (обменная сортировка) – простой в реализации алгоритм сортировки, но в чистом виде на практике используется очень редко. Этот метод сортировки лежит в основе некоторых более совершенных алгоритмов, таких как шейкерная сортировка, пирамидальная сортировка и быстрая сортировка.\n",
    "\n",
    "Суть алгоритма - соседние элементы последовательности сравниваются между собой и, в случае необходимости, меняются местами.\n",
    "https://hsto.org/getpro/habr/post_images/187/5a3/929/1875a3929dd14c8ea5ff4ccc3d0db9bd.gif\n"
   ]
  },
  {
   "cell_type": "code",
   "execution_count": 1,
   "metadata": {},
   "outputs": [],
   "source": [
    "def bubble_sort(lst: list) -> list:\n",
    "    \"\"\"сортировки пузырьком - решение в лоб\n",
    "    \"\"\"\n",
    "    size = len(lst)\n",
    "    for i in range(size):\n",
    "        for j in range(size - 1):\n",
    "            if lst[j] > lst[j + 1]:\n",
    "                lst[j], lst[j + 1] = lst[j + 1], lst[j]\n",
    "    return lst\n"
   ]
  },
  {
   "cell_type": "code",
   "execution_count": 2,
   "metadata": {
    "scrolled": true
   },
   "outputs": [
    {
     "name": "stdout",
     "output_type": "stream",
     "text": [
      "0.003596067428588867\n"
     ]
    }
   ],
   "source": [
    "import random\n",
    "import time\n",
    "my_list = [random.randint(0, 100) for i in range(100)]\n",
    "start = time.time()\n",
    "bubble_sort(my_list)\n",
    "print(time.time() - start)"
   ]
  },
  {
   "cell_type": "code",
   "execution_count": 3,
   "metadata": {
    "scrolled": true
   },
   "outputs": [
    {
     "name": "stdout",
     "output_type": "stream",
     "text": [
      "0.3841557502746582\n"
     ]
    }
   ],
   "source": [
    "my_list = [random.randint(0, 100) for i in range(1000)]\n",
    "start = time.time()\n",
    "bubble_sort(my_list)\n",
    "print(time.time() - start)"
   ]
  },
  {
   "cell_type": "code",
   "execution_count": 4,
   "metadata": {},
   "outputs": [],
   "source": [
    "def bubble_sort_1(lst: list) -> list:\n",
    "    \"\"\"сортировки пузырьком - уменьшение действий\n",
    "    при необязательных сравнениях\n",
    "    \"\"\"\n",
    "    size = len(lst)\n",
    "    for i in range(size):\n",
    "        for j in range(size - 1 - i):\n",
    "            if lst[j] > lst[j + 1]:\n",
    "                lst[j], lst[j + 1] = lst[j + 1], lst[j]\n",
    "    return lst"
   ]
  },
  {
   "cell_type": "code",
   "execution_count": 8,
   "metadata": {},
   "outputs": [
    {
     "name": "stdout",
     "output_type": "stream",
     "text": [
      "0.47849106788635254\n"
     ]
    }
   ],
   "source": [
    "my_list = [random.randint(0, 100) for i in range(1000)]\n",
    "lst1 = my_list[:]\n",
    "start = time.time()\n",
    "bubble_sort(my_list)\n",
    "print(time.time() - start)\n"
   ]
  },
  {
   "cell_type": "code",
   "execution_count": 7,
   "metadata": {},
   "outputs": [
    {
     "name": "stdout",
     "output_type": "stream",
     "text": [
      "0.2035527229309082\n"
     ]
    }
   ],
   "source": [
    "start = time.time()\n",
    "bubble_sort_1(lst1)\n",
    "print(time.time() - start)"
   ]
  },
  {
   "cell_type": "code",
   "execution_count": null,
   "metadata": {},
   "outputs": [],
   "source": []
  },
  {
   "cell_type": "code",
   "execution_count": 10,
   "metadata": {},
   "outputs": [],
   "source": [
    "def bubble_sort_2(lst: list) -> list:\n",
    "    \"\"\"сортировки пузырьком - уменьшение действий\n",
    "    если массив уже отсортирован\n",
    "    \"\"\"\n",
    "    size = len(lst)\n",
    "    for i in range(size):\n",
    "        swap = False\n",
    "        for j in range(size - 1 - i):\n",
    "            if lst[j] > lst[j + 1]:\n",
    "                lst[j], lst[j + 1] = lst[j + 1], lst[j]\n",
    "                swap = True\n",
    "        if not swap:\n",
    "            break\n",
    "    return lst"
   ]
  },
  {
   "cell_type": "code",
   "execution_count": 11,
   "metadata": {},
   "outputs": [],
   "source": [
    "my_list = [random.randint(0, 100) for i in range(1000)]\n",
    "lst1 = my_list[:]\n",
    "lst2 = my_list[:]\n"
   ]
  },
  {
   "cell_type": "code",
   "execution_count": 12,
   "metadata": {},
   "outputs": [
    {
     "name": "stdout",
     "output_type": "stream",
     "text": [
      "0.4157137870788574\n"
     ]
    }
   ],
   "source": [
    "start = time.time()\n",
    "bubble_sort(my_list)\n",
    "print(time.time() - start)"
   ]
  },
  {
   "cell_type": "code",
   "execution_count": 13,
   "metadata": {
    "scrolled": true
   },
   "outputs": [
    {
     "name": "stdout",
     "output_type": "stream",
     "text": [
      "0.2656376361846924\n"
     ]
    }
   ],
   "source": [
    "start = time.time()\n",
    "bubble_sort_1(lst1)\n",
    "print(time.time() - start)"
   ]
  },
  {
   "cell_type": "code",
   "execution_count": 14,
   "metadata": {},
   "outputs": [
    {
     "name": "stdout",
     "output_type": "stream",
     "text": [
      "0.24635529518127441\n"
     ]
    }
   ],
   "source": [
    "start = time.time()\n",
    "bubble_sort_2(lst2)\n",
    "print(time.time() - start)"
   ]
  },
  {
   "cell_type": "code",
   "execution_count": 15,
   "metadata": {},
   "outputs": [
    {
     "name": "stdout",
     "output_type": "stream",
     "text": [
      "0.0011699199676513672\n"
     ]
    }
   ],
   "source": [
    "# Отсортированные данные\n",
    "start = time.time()\n",
    "bubble_sort_2(lst2)\n",
    "print(time.time() - start)"
   ]
  },
  {
   "cell_type": "code",
   "execution_count": 16,
   "metadata": {},
   "outputs": [
    {
     "name": "stdout",
     "output_type": "stream",
     "text": [
      "0.17519855499267578\n"
     ]
    }
   ],
   "source": [
    "# Отсортированные данные\n",
    "start = time.time()\n",
    "bubble_sort_1(lst1)\n",
    "print(time.time() - start)"
   ]
  },
  {
   "cell_type": "code",
   "execution_count": null,
   "metadata": {
    "scrolled": false
   },
   "outputs": [],
   "source": [
    "\n"
   ]
  },
  {
   "cell_type": "code",
   "execution_count": 17,
   "metadata": {},
   "outputs": [
    {
     "name": "stdout",
     "output_type": "stream",
     "text": [
      "0.37165236473083496\n"
     ]
    }
   ],
   "source": [
    "lst3 = list(reversed(lst2))\n",
    "start = time.time()\n",
    "bubble_sort_2(lst3)\n",
    "print(time.time() - start)"
   ]
  },
  {
   "cell_type": "markdown",
   "metadata": {},
   "source": [
    "В Python встроенный алгоритм сортировки — Timsort."
   ]
  },
  {
   "cell_type": "markdown",
   "metadata": {},
   "source": [
    "Виды сортировок: https://neerc.ifmo.ru/wiki/index.php?title=%D0%A1%D0%BE%D1%80%D1%82%D0%B8%D1%80%D0%BE%D0%B2%D0%BA%D0%B8\n",
    "Визуализация алгоритмов сортировки: https://www.youtube.com/watch?v=Gnp8G1_kO3I"
   ]
  },
  {
   "cell_type": "markdown",
   "metadata": {},
   "source": [
    "### Алгоритм линейного поиска\n",
    "Суть алгоритма заключается в том, чтобы перебрать массив и вернуть индекс первого вхождения элемента, когда он найден"
   ]
  },
  {
   "cell_type": "code",
   "execution_count": 18,
   "metadata": {},
   "outputs": [],
   "source": [
    "from typing import Union, List\n",
    "\n",
    "def linear_search(lst: List, element: Union[int, float]) -> int:\n",
    "    \"\"\"  Линейный поиск    \"\"\"\n",
    "    for i in range(len(lst)):\n",
    "        if lst[i] == element:\n",
    "            return i\n",
    "    return -1"
   ]
  },
  {
   "cell_type": "code",
   "execution_count": 19,
   "metadata": {},
   "outputs": [
    {
     "name": "stdout",
     "output_type": "stream",
     "text": [
      "1\n"
     ]
    }
   ],
   "source": [
    "print(linear_search([1, 2, 3, 4, 5, 2, 1], 2))"
   ]
  },
  {
   "cell_type": "code",
   "execution_count": null,
   "metadata": {},
   "outputs": [],
   "source": []
  },
  {
   "cell_type": "code",
   "execution_count": 20,
   "metadata": {},
   "outputs": [
    {
     "name": "stdout",
     "output_type": "stream",
     "text": [
      "-1\n"
     ]
    }
   ],
   "source": [
    "print(linear_search([1, 2, 3, 4, 5, 2, 1], 22))"
   ]
  },
  {
   "cell_type": "markdown",
   "metadata": {},
   "source": [
    "### Бинарный поиск\n",
    "\n",
    "Бинарный поиск работает по принципу «разделяй и властвуй». Он быстрее, чем линейный поиск, но требует, чтобы массив был отсортирован перед выполнением алгоритма.\n",
    "\n",
    "Предполагая, что мы ищем значение val в отсортированном массиве, алгоритм сравнивает val со значением среднего элемента массива, который мы будем называть mid.\n",
    "\n",
    "Если mid — это тот элемент, который мы ищем (в лучшем случае), мы возвращаем его индекс.\n",
    "\n",
    "Если нет, мы определяем, в какой половине массива мы будем искать val дальше, основываясь на том, меньше или больше значение val значения mid, и отбрасываем вторую половину массива.\n",
    "\n",
    "Затем мы выполняем те же шаги, выбирая новое значение для mid, сравнивая его с val и отбрасывая половину массива на каждой итерации алгоритма."
   ]
  },
  {
   "cell_type": "code",
   "execution_count": 21,
   "metadata": {},
   "outputs": [],
   "source": [
    "\n",
    "def binary_search(lst: List, val: Union[int, float]):\n",
    "    \"\"\"    Бинарный поиск     \"\"\"\n",
    "    first = 0\n",
    "    last = len(lst)-1\n",
    "    index = -1\n",
    "    while (first <= last) and (index == -1):\n",
    "        mid = (first + last) // 2\n",
    "        if lst[mid] == val:\n",
    "            index = mid\n",
    "        else:\n",
    "            if val < lst[mid]:\n",
    "                last = mid - 1\n",
    "            else:\n",
    "                first = mid + 1\n",
    "    return index"
   ]
  },
  {
   "cell_type": "code",
   "execution_count": 25,
   "metadata": {},
   "outputs": [
    {
     "name": "stdout",
     "output_type": "stream",
     "text": [
      "0.0002644062042236328\n"
     ]
    }
   ],
   "source": [
    "my_list = [random.randint(0, 20000) for i in range(10000)]\n",
    "lst1 = my_list[:]\n",
    "my_list.sort()\n",
    "start = time.time()\n",
    "res = binary_search(my_list, 15000)\n",
    "print(time.time() - start)"
   ]
  },
  {
   "cell_type": "code",
   "execution_count": 23,
   "metadata": {},
   "outputs": [
    {
     "name": "stdout",
     "output_type": "stream",
     "text": [
      "0.0016303062438964844\n"
     ]
    }
   ],
   "source": [
    "start = time.time()\n",
    "res = linear_search(my_list, 15000) # Отсортированный список\n",
    "print(time.time() - start)"
   ]
  },
  {
   "cell_type": "code",
   "execution_count": 26,
   "metadata": {},
   "outputs": [
    {
     "name": "stdout",
     "output_type": "stream",
     "text": [
      "0.008376359939575195\n"
     ]
    }
   ],
   "source": [
    "start = time.time()\n",
    "res = linear_search(lst1, 15000) # Неотсортированный\n",
    "print(time.time() - start)"
   ]
  },
  {
   "cell_type": "code",
   "execution_count": 27,
   "metadata": {},
   "outputs": [
    {
     "name": "stdout",
     "output_type": "stream",
     "text": [
      "0.027322769165039062\n"
     ]
    }
   ],
   "source": [
    "start = time.time()\n",
    "res = linear_search(my_list, 25000) # Отсутствующий элемент\n",
    "print(time.time() - start)"
   ]
  },
  {
   "cell_type": "code",
   "execution_count": 28,
   "metadata": {},
   "outputs": [
    {
     "name": "stdout",
     "output_type": "stream",
     "text": [
      "0.00016641616821289062\n"
     ]
    }
   ],
   "source": [
    "start = time.time()\n",
    "res = binary_search(my_list, 25000) # Отсутствующий элемент\n",
    "print(time.time() - start)"
   ]
  },
  {
   "cell_type": "markdown",
   "metadata": {},
   "source": [
    "https://edx.prometheus.org.ua/courses/KPI/Algorithms101/2015_Spring/about\n"
   ]
  }
 ],
 "metadata": {
  "kernelspec": {
   "display_name": "Python 3 (ipykernel)",
   "language": "python",
   "name": "python3"
  },
  "language_info": {
   "codemirror_mode": {
    "name": "ipython",
    "version": 3
   },
   "file_extension": ".py",
   "mimetype": "text/x-python",
   "name": "python",
   "nbconvert_exporter": "python",
   "pygments_lexer": "ipython3",
   "version": "3.10.10"
  }
 },
 "nbformat": 4,
 "nbformat_minor": 1
}
